{
 "cells": [
  {
   "cell_type": "code",
   "execution_count": 8,
   "metadata": {},
   "outputs": [
    {
     "name": "stdout",
     "output_type": "stream",
     "text": [
      "1 2 7 6 8 3 4 5 "
     ]
    }
   ],
   "source": [
    "#######\n",
    "# DFS #\n",
    "#######\n",
    "\n",
    "def dfs(graph, v, visited):\n",
    "    # 현재 노드를 방문 처리\n",
    "    visited[v] = True\n",
    "    print(v, end=' ')\n",
    "    # 현재 노드와 연결된 다른 노드를 재귀적으로 방문\n",
    "    for i in graph[v]:\n",
    "        if not visited[i]:\n",
    "            dfs(graph, i, visited)\n",
    "\n",
    "\n",
    "graph = [\n",
    "    [],\n",
    "    [2, 3, 8],\n",
    "    [1, 7],\n",
    "    [1, 4, 5],\n",
    "    [3, 5],\n",
    "    [3, 4],\n",
    "    [7],\n",
    "    [2, 6, 8],\n",
    "    [1, 7]\n",
    "]\n",
    "visited = [False] * len(graph)\n",
    "dfs(graph, 1, visited)"
   ]
  },
  {
   "cell_type": "code",
   "execution_count": 9,
   "metadata": {},
   "outputs": [
    {
     "name": "stdout",
     "output_type": "stream",
     "text": [
      "1 2 3 8 7 4 5 6 "
     ]
    }
   ],
   "source": [
    "#######\n",
    "# BFS #\n",
    "#######\n",
    "\n",
    "from collections import deque\n",
    "\n",
    "def bfs(graph, start, visited):\n",
    "    # 큐 queue 구현을 위해 deque 라이브러리 사용\n",
    "    queue = deque([start])\n",
    "    \n",
    "    # 현재 노드 방문 처리\n",
    "    visited[start] = True\n",
    "    \n",
    "    # 큐가 빌 때까지 반복\n",
    "    while queue:\n",
    "        # 큐에서 하나의 원소를 뽑아 출력\n",
    "        v = queue.popleft()\n",
    "        print(v, end=' ')\n",
    "        for i in graph[v]:\n",
    "            if not visited[i]:\n",
    "                queue.append(i)\n",
    "                visited[i] = True\n",
    "\n",
    "graph = [\n",
    "    [],\n",
    "    [2, 3, 8],\n",
    "    [1, 7],\n",
    "    [1, 4, 5],\n",
    "    [3, 5],\n",
    "    [3, 4],\n",
    "    [7],\n",
    "    [2, 6, 8],\n",
    "    [1, 7]\n",
    "]\n",
    "\n",
    "visited = [False] * len(graph)\n",
    "bfs(graph, 1, visited)\n",
    "\n",
    "        "
   ]
  },
  {
   "cell_type": "code",
   "execution_count": null,
   "metadata": {},
   "outputs": [],
   "source": [
    "################\n",
    "# 음료수 얼려 먹기 #\n",
    "################\n",
    "\n",
    "n, m = map(int, input().split())\n",
    "graph = []\n",
    "for i in range(n):\n",
    "    graph.append(list(map(int, input())))\n",
    "\n",
    "def dfs(x, y):\n",
    "    \n",
    "    # 그래프 범위를 벗어나면 종료\n",
    "    if x<0 or x>(n-1) or y<0 or y>(m-1):\n",
    "        return False\n",
    "    \n",
    "    # 1이면 => 방문했다는 의미\n",
    "    # 0이면 => 아직 방문 X\n",
    "    if graph[x][y] == 0:\n",
    "        graph[x][y] = 1 # 방문 처리 \n",
    "        \n",
    "        dfs(x-1, y)\n",
    "        dfs(x+1, y)\n",
    "        dfs(x, y-1)\n",
    "        dfs(x, y+1)\n",
    "        # 모두 방문했으면 종료\n",
    "        return True\n",
    "    \n",
    "    return False\n",
    "    \n",
    "    \n",
    "answer=0\n",
    "for i in range(n):\n",
    "    for j in range(m):\n",
    "        if dfs(i, j):\n",
    "            answer +=1\n",
    "    \n",
    "print(answer)"
   ]
  },
  {
   "cell_type": "code",
   "execution_count": null,
   "metadata": {},
   "outputs": [],
   "source": [
    "###########\n",
    "# 미로 탈출 #\n",
    "########### \n",
    "\n",
    "from collections import deque\n",
    "\n",
    "n, m = map(int, input().split())\n",
    "graph = []\n",
    "for _ in range(n):\n",
    "    info = list(map(int, input()))\n",
    "    graph.append(info)\n",
    "\n",
    "\n",
    "start = (0,0)\n",
    "\n",
    "dx = [1,-1,0,0]\n",
    "dy = [0,0,1,-1]\n",
    "\n",
    "queue = deque([start])\n",
    "\n",
    "while queue:\n",
    "    x, y = queue.popleft()\n",
    "    \n",
    "    for i in range(4):\n",
    "        nx = x + dx[i]\n",
    "        ny = y + dy[i]\n",
    "        \n",
    "        if nx <0 or nx>=n or ny<0 or ny>=m:\n",
    "            continue\n",
    "        \n",
    "        if graph[nx][ny] ==1:\n",
    "            graph[nx][ny] = graph[x][y] + 1\n",
    "            queue.append((nx, ny))\n",
    "\n",
    "print(graph[n-1][m-1])"
   ]
  },
  {
   "cell_type": "code",
   "execution_count": null,
   "metadata": {},
   "outputs": [],
   "source": []
  }
 ],
 "metadata": {
  "interpreter": {
   "hash": "6bb00e665e79723e7e79feb91bbbda6c3445b5ccf06327c5b374eacd70313e09"
  },
  "kernelspec": {
   "display_name": "Python 3.7.10 ('seunghyun')",
   "language": "python",
   "name": "python3"
  },
  "language_info": {
   "codemirror_mode": {
    "name": "ipython",
    "version": 3
   },
   "file_extension": ".py",
   "mimetype": "text/x-python",
   "name": "python",
   "nbconvert_exporter": "python",
   "pygments_lexer": "ipython3",
   "version": "3.7.10"
  },
  "orig_nbformat": 4
 },
 "nbformat": 4,
 "nbformat_minor": 2
}

{
 "cells": [
  {
   "cell_type": "markdown",
   "metadata": {},
   "source": [
    "## 부품 찾기"
   ]
  },
  {
   "cell_type": "markdown",
   "metadata": {},
   "source": [
    "n = int(input())\n",
    "my_nums = list(map(int, input().split()))\n",
    "\n",
    "m = int(input())\n",
    "his_nums = list(map(int, input().split()))\n",
    "\n",
    "my_nums = sorted(my_nums) # 이진탐색을 위한 정렬\n",
    "\n",
    "def binary_search(array, target):\n",
    "    start = 0\n",
    "    end = len(array)-1\n",
    "    \n",
    "    while start <= end:\n",
    "        mid = (start + end) // 2\n",
    "\n",
    "        if array[mid] < target:\n",
    "            start = mid+1\n",
    "        elif array[mid] > target:\n",
    "            end = mid - 1\n",
    "        else:\n",
    "            return True\n",
    "\n",
    "answer = []\n",
    "for target in his_nums:\n",
    "    if binary_search(my_nums, target):\n",
    "        answer.append('yes')\n",
    "    else:\n",
    "        answer.append('no')\n",
    "print(answer)\n",
    "    \n",
    "    "
   ]
  }
 ],
 "metadata": {
  "interpreter": {
   "hash": "6bb00e665e79723e7e79feb91bbbda6c3445b5ccf06327c5b374eacd70313e09"
  },
  "kernelspec": {
   "display_name": "Python 3.7.10 ('seunghyun')",
   "language": "python",
   "name": "python3"
  },
  "language_info": {
   "codemirror_mode": {
    "name": "ipython",
    "version": 3
   },
   "file_extension": ".py",
   "mimetype": "text/x-python",
   "name": "python",
   "nbconvert_exporter": "python",
   "pygments_lexer": "ipython3",
   "version": "3.7.10"
  },
  "orig_nbformat": 4
 },
 "nbformat": 4,
 "nbformat_minor": 2
}

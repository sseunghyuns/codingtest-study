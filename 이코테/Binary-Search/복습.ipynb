{
 "cells": [
  {
   "cell_type": "markdown",
   "metadata": {},
   "source": [
    "## 부품 찾기"
   ]
  },
  {
   "cell_type": "code",
   "execution_count": null,
   "metadata": {},
   "outputs": [],
   "source": [
    "n = int(input())\n",
    "my_nums = list(map(int, input().split()))\n",
    "\n",
    "m = int(input())\n",
    "his_nums = list(map(int, input().split()))\n",
    "\n",
    "my_nums = sorted(my_nums) # 이진탐색을 위한 정렬\n",
    "\n",
    "def binary_search(array, target):\n",
    "    start = 0\n",
    "    end = len(array)-1\n",
    "    \n",
    "    while start <= end:\n",
    "        mid = (start + end) // 2\n",
    "\n",
    "        if array[mid] < target:\n",
    "            start = mid+1\n",
    "        elif array[mid] > target:\n",
    "            end = mid - 1\n",
    "        else:\n",
    "            return True\n",
    "\n",
    "answer = []\n",
    "for target in his_nums:\n",
    "    if binary_search(my_nums, target):\n",
    "        answer.append('yes')\n",
    "    else:\n",
    "        answer.append('no')\n",
    "print(answer)\n",
    "    \n",
    "    "
   ]
  },
  {
   "cell_type": "markdown",
   "metadata": {},
   "source": [
    "## 떡볶이 떡 만들기"
   ]
  },
  {
   "cell_type": "code",
   "execution_count": null,
   "metadata": {},
   "outputs": [],
   "source": [
    "n, m = map(int, input().split())\n",
    "height = list(map(int, input().split()))\n",
    "\n",
    "height = sorted(height)\n",
    "\n",
    "min_h = 0\n",
    "max_h = max(height)\n",
    "\n",
    "while min_h <= max_h:\n",
    "    mid_h = (min_h + max_h) // 2\n",
    "    \n",
    "    result = 0\n",
    "    for h in height:\n",
    "        if h > mid_h:\n",
    "            result += (h-min_h)\n",
    "            \n",
    "    # print(result, mid_h)\n",
    "    \n",
    "    if result < m:\n",
    "        max_h = mid_h -1\n",
    "    elif result >= m:\n",
    "        min_h = mid_h +1\n",
    "        answer = mid_h\n",
    "        \n",
    "print(answer)"
   ]
  }
 ],
 "metadata": {
  "interpreter": {
   "hash": "6bb00e665e79723e7e79feb91bbbda6c3445b5ccf06327c5b374eacd70313e09"
  },
  "kernelspec": {
   "display_name": "Python 3.7.10 ('seunghyun')",
   "language": "python",
   "name": "python3"
  },
  "language_info": {
   "codemirror_mode": {
    "name": "ipython",
    "version": 3
   },
   "file_extension": ".py",
   "mimetype": "text/x-python",
   "name": "python",
   "nbconvert_exporter": "python",
   "pygments_lexer": "ipython3",
   "version": "3.7.10"
  },
  "orig_nbformat": 4
 },
 "nbformat": 4,
 "nbformat_minor": 2
}

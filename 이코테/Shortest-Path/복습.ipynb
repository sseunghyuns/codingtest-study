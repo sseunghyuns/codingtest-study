{
 "cells": [
  {
   "cell_type": "code",
   "execution_count": 13,
   "metadata": {},
   "outputs": [],
   "source": [
    "import heapq\n",
    "import sys\n",
    "import os"
   ]
  },
  {
   "cell_type": "markdown",
   "metadata": {},
   "source": [
    "## 미래도시"
   ]
  },
  {
   "cell_type": "code",
   "execution_count": 28,
   "metadata": {},
   "outputs": [
    {
     "name": "stdout",
     "output_type": "stream",
     "text": [
      "3\n"
     ]
    }
   ],
   "source": [
    "# 1 -> k -> x\n",
    "n, m = 5, 7\n",
    "X, K = 4, 5\n",
    "INF = int(1e9)\n",
    "\n",
    "# 그래프 초기화\n",
    "graph = [[INF]*(n+1) for _ in range(n+1)]\n",
    "for i in range(1, n+1):\n",
    "    for j in range(1, n+1):\n",
    "        if i == j:\n",
    "            graph[i][j] = 0\n",
    "            \n",
    "# 주어지는 그래프 정보 업데이트\n",
    "to_update = [(1,2), (1,3), (1,4), (2,4), (3,4), (3,5), (4,5), (4,5)]\n",
    "for i in to_update:\n",
    "    a, b = i\n",
    "    graph[a][b]=1\n",
    "    graph[b][a]=1\n",
    "    \n",
    "for k in range(1, n+1):\n",
    "    for a in range(1, n+1):\n",
    "        for b in range(1, n+1):\n",
    "            graph[a][b] = min(graph[a][b], graph[a][k] + graph[k][b])\n",
    "            # print(k,a,b)\n",
    "            \n",
    "# 출력\n",
    "output = graph[1][K] + graph[K][X]\n",
    "if output == INF:\n",
    "    print(-1)\n",
    "else:\n",
    "    print(output)"
   ]
  },
  {
   "cell_type": "markdown",
   "metadata": {},
   "source": [
    "## 전보"
   ]
  },
  {
   "cell_type": "code",
   "execution_count": 94,
   "metadata": {},
   "outputs": [
    {
     "name": "stdout",
     "output_type": "stream",
     "text": [
      "### START 1 ###\n",
      "[] 0 1\n",
      "0\n",
      "Update cost:  4\n",
      "Update que:  [(4, 2)]\n",
      "Update cost:  2\n",
      "Update que:  [(2, 3), (4, 2)]\n",
      "### START 3 ###\n",
      "[(4, 2)] 2 3\n",
      "2\n",
      "### START 2 ###\n",
      "[] 4 2\n",
      "4\n",
      "Final output:  2 4\n"
     ]
    }
   ],
   "source": [
    "# 도시 개수 n\n",
    "# 통로 개수 m\n",
    "# 메세지 출발 도시 c\n",
    "n, m, c = 3, 2, 1\n",
    "INF = int(1e9)\n",
    "\n",
    "distance = [INF] * (n+1)\n",
    "graph = [[] for _ in range(n+1)]\n",
    "\n",
    "# 간선 정보 업데이트\n",
    "to_update = [(1,2,4), (1,3,2)]\n",
    "for i in to_update:\n",
    "    x,y,z = i\n",
    "    graph[x].append((y,z))\n",
    "    \n",
    "# def dijkstra(start):\n",
    "start = c\n",
    "\n",
    "# 시작 노드에 대해 초기화\n",
    "que = []\n",
    "heapq.heappush(que, (0, start)) #(시간, 시작 노드)\n",
    "distance[start] = 0\n",
    "# print(que)\n",
    "# print(distance)\n",
    "\n",
    "while que:\n",
    "    dist, now = heapq.heappop(que)\n",
    "    print(f\"### START {now} ###\")\n",
    "    print(que, dist, now)    \n",
    "    print(distance[now])\n",
    "    # 현재 노드가 처리된 적이 있으면 무시 / 어차피 최솟값을 찾아야하기 때문에 큐에서 뺀 값이 저장된 값보다 크다면 이후 코드를 동작할 필요는 없다.\n",
    "    if distance[now] < dist: ###\n",
    "        continue ###\n",
    "    \n",
    "    # 현재 노드에 인접한 노드들 모두 확인\n",
    "    for i in graph[now]:\n",
    "        # print(i, end=\" \")\n",
    "        cost = dist + i[1] # cost = 현재 노드까지의 거리 + 인접한 노드까지의 거리\n",
    "        if cost < distance[i[0]]: # cost가 기존의 distance보다 작으면 업데이트\n",
    "            distance[i[0]] = cost\n",
    "            print('Update cost: ', cost)\n",
    "            heapq.heappush(que, (cost, i[0])) # 거리가 업데이트된 노드 que 삽입\n",
    "            print('Update que: ', que)\n",
    "   \n",
    "# 출력 #          \n",
    "count = 0\n",
    "max_dist = 0\n",
    "for i in distance:\n",
    "    if i != INF:\n",
    "        count +=1\n",
    "        max_dist = max(max_dist, i)\n",
    "print(\"Final output: \", count-1, max_dist) # 시작 노드는 제외"
   ]
  },
  {
   "cell_type": "markdown",
   "metadata": {},
   "source": [
    "## 플로이드"
   ]
  },
  {
   "cell_type": "code",
   "execution_count": 24,
   "metadata": {},
   "outputs": [
    {
     "name": "stdout",
     "output_type": "stream",
     "text": [
      "0 2 3 1 4 \n",
      "12 0 15 2 5 \n",
      "8 5 0 1 1 \n",
      "10 7 13 0 3 \n",
      "7 4 10 6 0 \n"
     ]
    }
   ],
   "source": [
    "# n: 도시 개수\n",
    "# m: 버스 개수\n",
    "n, m = 5, 14\n",
    "INF = int(1e9)\n",
    "to_update = [(1,2,2), (1,3,3), (1,4,1), (1,5,10), (2,4,2), (3,4,1),(3,5,1), (4,5,3), (3,5,10), (3,1,8), (1,4,2), (5,1,7), (3,4,2), (5,2,4)]\n",
    "assert len(to_update) == m\n",
    "\n",
    "graph = [[INF]*(n+1) for _ in range(n+1)]\n",
    "\n",
    "for i in range(1, n+1):\n",
    "    for j in range(1, n+1):\n",
    "        if i<j:\n",
    "            continue\n",
    "        if i==j:\n",
    "            graph[i][j]=0      \n",
    "\n",
    "# 도시간 이동 비용 업데이트\n",
    "for (a,b,c) in to_update:\n",
    "    graph[a][b] = min(graph[a][b], c) # a(시작 도시)와 b(도착 도시)를 연결하는 노선은 하나가 아닐 수 있으므로 둘 중 최솟값을 업데이트\n",
    "    \n",
    "# 플로이드 워셜 알고리즘으로 도시간 이동 비용 정보 업데이트\n",
    "for k in range(1, n+1):\n",
    "    for a in range(1, n+1):\n",
    "        for b in range(1, n+1):\n",
    "            graph[a][b] = min(graph[a][b], graph[a][k] + graph[k][b])\n",
    "            \n",
    "# 결과 출력\n",
    "for i in range(1, n+1):\n",
    "    for j in range(1, n+1):\n",
    "        cost = graph[i][j]\n",
    "        if cost == INF:\n",
    "            print(0, end=\" \")\n",
    "        else:\n",
    "            print(cost, end=\" \")\n",
    "    print()"
   ]
  },
  {
   "cell_type": "markdown",
   "metadata": {},
   "source": [
    "## 정확한 순위"
   ]
  },
  {
   "cell_type": "code",
   "execution_count": 61,
   "metadata": {},
   "outputs": [],
   "source": [
    "# n: 학생 수\n",
    "# m: 두 학생의 성적을 비교한 횟수\n",
    "n, m = 6, 6\n",
    "INF = int(1e9)\n",
    "to_update = [(1,5), (3,4), (4,2), (4,6), (5,2), (5,4)]\n",
    "assert len(to_update) == m "
   ]
  },
  {
   "cell_type": "code",
   "execution_count": 29,
   "metadata": {},
   "outputs": [],
   "source": [
    "# 만약 a 학생이 b학생보다 성적이 낮다면, a->b로 가는 거리가 1이라는 의미.(성적 비교 가능)\n",
    "# 따라서 최단경로 문제로 해결할 수 있다. \n",
    "# 문제에서 원하는 \"성적 순위를 정확히 알 수 있는 학생\"은 해당 학생에서 다른 모든 학생으로 가는 경로가 존재하는지 확인하면 될 듯.\n",
    "# 또한 학생들의 수가 최대 500이므로, 플로이드 워셜 알고리즘은 최악의 경우 500^3의 시간복잡도를 갖는다. 따라서 다익스트라로 접근해보자.\n",
    "### -> distance를 어떻게 처리할 것인가..?\n",
    "### 플로이드 워셜로 일단 다시 풀어보기"
   ]
  },
  {
   "cell_type": "code",
   "execution_count": 60,
   "metadata": {},
   "outputs": [
    {
     "name": "stdout",
     "output_type": "stream",
     "text": [
      "[[], [(5, 1)], [], [(4, 1)], [(2, 1), (6, 1)], [(2, 1), (4, 1)], []]\n",
      "0 1\n",
      "1 5\n",
      "2 2\n",
      "2 4\n",
      "3 6\n"
     ]
    },
    {
     "data": {
      "text/plain": [
       "[1000000000, 0, 2, 1000000000, 2, 1, 3]"
      ]
     },
     "execution_count": 60,
     "metadata": {},
     "output_type": "execute_result"
    }
   ],
   "source": [
    "# 다익스트라(실패)\n",
    "\n",
    "distance = [INF] * (n+1)\n",
    "\n",
    "graph = [[] for _ in range(n+1)]\n",
    "\n",
    "# 그래프 정보 업데이트\n",
    "for a,b in to_update:\n",
    "    graph[a].append((b,1))\n",
    "\n",
    "print(graph)\n",
    "# print(distance)\n",
    "\n",
    "# 시작 노드 설정\n",
    "que = []\n",
    "for i in range(len(graph)):\n",
    "    if graph[i]:\n",
    "        # print(graph[i], i)\n",
    "        heapq.heappush(que, (0, i))\n",
    "        distance[i]=0\n",
    "        break\n",
    "\n",
    "# 다익스트라 알고리즘\n",
    "while que:\n",
    "    dist, now = heapq.heappop(que)\n",
    "    \n",
    "    print(dist, now)\n",
    "    if distance[now] < dist:\n",
    "        continue\n",
    "    \n",
    "    for i in graph[now]:\n",
    "        cost = dist + i[1]\n",
    "        if cost < distance[i[0]]:\n",
    "            distance[i[0]] = cost\n",
    "            heapq.heappush(que, (cost, i[0]))   \n",
    "    \n",
    "distance"
   ]
  },
  {
   "cell_type": "code",
   "execution_count": 80,
   "metadata": {},
   "outputs": [
    {
     "name": "stdout",
     "output_type": "stream",
     "text": [
      "4번 학생의 정확한 순위를 알 수 있다.\n",
      "1\n"
     ]
    }
   ],
   "source": [
    "# 플로이드 워셜\n",
    "\n",
    "# 그래프 초기화\n",
    "graph = [[INF]*(n+1) for _ in range(n+1)]\n",
    "for i in range(1, n+1):\n",
    "    for j in range(1, n+1):\n",
    "        if i < j:\n",
    "            continue\n",
    "        elif i == j:\n",
    "            graph[i][j]=0\n",
    "\n",
    "# 경로 정보 업데이트.\n",
    "# a학생이 b학생보다 성적이 낮다는 것은 두 학생의 성적을 비교할 수 있다는 의미인데, 그렇다면 a->b, b->a 경로가 존재한다는 의미는 아닐까? \n",
    "# graph[b][a]=1 도 추가해주어야하는 것이 아닌지..?\n",
    "for a,b in to_update:\n",
    "    graph[a][b] = 1\n",
    "    # graph[b][a] = 1\n",
    "\n",
    "# 플로이드 워셜 알고리즘 적용\n",
    "for k in range(1, n+1):\n",
    "    for a in range(1, n+1):\n",
    "        for b in range(1, n+1):\n",
    "            graph[a][b] = min(graph[a][b], graph[a][k] + graph[k][b])\n",
    "            \n",
    "# 각 학생별로 모든 학생으로 도달 가능한지 확인\n",
    "# 해설 설명 참고: https://blex.me/@mildsalmon/chap-17-%EC%B5%9C%EB%8B%A8%EA%B2%BD%EB%A1%9C-q38-%EC%A0%95%ED%99%95%ED%95%9C-%EC%88%9C%EC%9C%84\n",
    "result = 0\n",
    "for i in range(1, n+1):\n",
    "    count = 0\n",
    "    for j in range(1, n+1):\n",
    "        if graph[i][j] != INF or graph[j][i] != INF: # 해당 학생보다 성적이 높거나 낮은 경우를 모두 알면 해당 학생의 성적을 정확히 알 수 있다. \n",
    "            count +=1\n",
    "    if count == n:\n",
    "        print(f\"{i}번 학생의 정확한 순위를 알 수 있다.\")\n",
    "        result+=1\n",
    "print(result)"
   ]
  },
  {
   "cell_type": "markdown",
   "metadata": {},
   "source": [
    "## 화성탐사"
   ]
  },
  {
   "cell_type": "code",
   "execution_count": 31,
   "metadata": {},
   "outputs": [
    {
     "name": "stdout",
     "output_type": "stream",
     "text": [
      "20\n",
      "19\n"
     ]
    }
   ],
   "source": [
    "dx = [1,-1,0,0]\n",
    "dy = [0,0,-1,1]\n",
    "INF = int(1e9)\n",
    "\n",
    "# t: 테스트 케이스 수\n",
    "# n: 탐사 공간의 크기(n x n)\n",
    "t=2\n",
    "ns=[3,5]\n",
    "graphs = [[[5,5,4], [3,9,1], [3,2,7]],\n",
    "          [[3,7,2,0,1],[2,8,0,9,1],[1,2,1,8,1],[9,8,9,2,0],[3,6,5,1,5]]]\n",
    "\n",
    "for tc in range(t):\n",
    "    graph = graphs[tc] # 각 칸의 비용 \n",
    "    n = ns[tc]\n",
    "    distance = [[INF]*(n) for _ in range(n)] # 거리 초기화\n",
    "\n",
    "    # 항상 0,0에서 시작\n",
    "    que = []\n",
    "    distance[0][0] = graph[0][0]\n",
    "    heapq.heappush(que, (distance[0][0], (0,0)))\n",
    "\n",
    "    while que:\n",
    "        dist, (nx, ny) = heapq.heappop(que)\n",
    "        \n",
    "        # 이미 처리된 노드 무시\n",
    "        if distance[nx][ny] <dist:\n",
    "            continue\n",
    "        \n",
    "        # 인접한 노드 모두 확인\n",
    "        for i in range(4):\n",
    "            _dx, _dy = nx+dx[i], ny+dy[i]\n",
    "            if _dx < 0 or _dx >= n or _dy < 0 or _dy >= n: # 탐사 공간을 넘어가면 무시\n",
    "                continue\n",
    "            \n",
    "            # print(nx,ny,_dx,_dy)\n",
    "            cost = distance[nx][ny] + graph[_dx][_dy]\n",
    "            \n",
    "            if cost < distance[_dx][_dy]:\n",
    "                distance[_dx][_dy] = cost\n",
    "                heapq.heappush(que, (distance[_dx][_dy], (_dx, _dy)))\n",
    "            \n",
    "    # 업데이트된 distance에서 [n-1][n-1]의 값은 해당 노드까지의 최소 비용이다.\n",
    "    print(distance[n-1][n-1])\n"
   ]
  },
  {
   "cell_type": "markdown",
   "metadata": {},
   "source": [
    "## 숨바꼭질"
   ]
  },
  {
   "cell_type": "code",
   "execution_count": 48,
   "metadata": {},
   "outputs": [
    {
     "name": "stdout",
     "output_type": "stream",
     "text": [
      "1\n",
      "2\n",
      "3\n",
      "4\n",
      "5\n",
      "6\n",
      "4 2 3\n"
     ]
    }
   ],
   "source": [
    "n, m = 6, 7\n",
    "INF = int(1e9)\n",
    "connected = [[3,6], [4,3], [3,2], [1,3], [1,2], [2,4], [5,2]]\n",
    "\n",
    "dx = [1,-1,0,0]\n",
    "dy = [0,0,1,-1]\n",
    "distance = [INF] * (n+1)\n",
    "graph = [[]*(n+1) for _ in range(n+1)]\n",
    "\n",
    "# 연결 정보 업데이트\n",
    "for i in connected:\n",
    "    a,b = i[0], i[1]\n",
    "    graph[a].append((b,1))\n",
    "    graph[b].append((a,1))\n",
    "    \n",
    "que = []\n",
    "start = 1\n",
    "distance[1] = 0\n",
    "heapq.heappush(que, (0, 1))\n",
    "while que:\n",
    "    dist, now = heapq.heappop(que)\n",
    "    if distance[now]<dist:\n",
    "        continue\n",
    "    for i in graph[now]:\n",
    "        cost = dist + i[1]\n",
    "        if cost < distance[i[0]]:\n",
    "            distance[i[0]] = cost\n",
    "            heapq.heappush(que, (cost, i[0]))\n",
    "            \n",
    "# 결과 출력\n",
    "num = []\n",
    "dist = 0\n",
    "for i in range(1, len(distance)):\n",
    "\n",
    "    if distance[i] > dist:\n",
    "        num = []\n",
    "        dist = distance[i]\n",
    "        num.append(i)\n",
    "    elif distance[i] == dist:\n",
    "        num.append(i)\n",
    "        \n",
    "print(min(num), dist, len(num))"
   ]
  }
 ],
 "metadata": {
  "interpreter": {
   "hash": "6bb00e665e79723e7e79feb91bbbda6c3445b5ccf06327c5b374eacd70313e09"
  },
  "kernelspec": {
   "display_name": "Python 3.7.10 ('seunghyun')",
   "language": "python",
   "name": "python3"
  },
  "language_info": {
   "codemirror_mode": {
    "name": "ipython",
    "version": 3
   },
   "file_extension": ".py",
   "mimetype": "text/x-python",
   "name": "python",
   "nbconvert_exporter": "python",
   "pygments_lexer": "ipython3",
   "version": "3.7.10"
  },
  "orig_nbformat": 4
 },
 "nbformat": 4,
 "nbformat_minor": 2
}

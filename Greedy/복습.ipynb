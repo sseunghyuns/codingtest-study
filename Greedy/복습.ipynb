{
 "cells": [
  {
   "cell_type": "markdown",
   "metadata": {},
   "source": [
    "## 볼링공 고르기"
   ]
  },
  {
   "cell_type": "code",
   "execution_count": 16,
   "metadata": {},
   "outputs": [
    {
     "name": "stdout",
     "output_type": "stream",
     "text": [
      "25\n"
     ]
    }
   ],
   "source": [
    "n, m = 8, 5\n",
    "input_weights = [1,5,4,3,2,4,5,2]\n",
    "weights = [0]* (m+1)\n",
    "\n",
    "for i in input_weights:\n",
    "    weights[i] += 1\n",
    "    \n",
    "result = 0\n",
    "for i in range(1, len(weights)):\n",
    "    n -= weights[i]\n",
    "    result += weights[i]*n\n",
    "print(result)    "
   ]
  },
  {
   "cell_type": "markdown",
   "metadata": {},
   "source": [
    "## 만들 수 없는 금액"
   ]
  },
  {
   "cell_type": "code",
   "execution_count": 24,
   "metadata": {},
   "outputs": [
    {
     "name": "stdout",
     "output_type": "stream",
     "text": [
      "[1, 1, 2, 3, 9]\n",
      "8 9\n"
     ]
    }
   ],
   "source": [
    "n = 5\n",
    "money = [3,2,1,1,9]\n",
    "money.sort()\n",
    "print(money)\n",
    "target = 1\n",
    "for i in money:\n",
    "    if target < i:\n",
    "        print(target, i)\n",
    "        break\n",
    "    target += i"
   ]
  }
 ],
 "metadata": {
  "interpreter": {
   "hash": "6bb00e665e79723e7e79feb91bbbda6c3445b5ccf06327c5b374eacd70313e09"
  },
  "kernelspec": {
   "display_name": "Python 3.7.10 ('seunghyun')",
   "language": "python",
   "name": "python3"
  },
  "language_info": {
   "codemirror_mode": {
    "name": "ipython",
    "version": 3
   },
   "file_extension": ".py",
   "mimetype": "text/x-python",
   "name": "python",
   "nbconvert_exporter": "python",
   "pygments_lexer": "ipython3",
   "version": "3.7.10"
  },
  "orig_nbformat": 4
 },
 "nbformat": 4,
 "nbformat_minor": 2
}

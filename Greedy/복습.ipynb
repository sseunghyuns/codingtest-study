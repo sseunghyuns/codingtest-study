{
 "cells": [
  {
   "cell_type": "markdown",
   "metadata": {},
   "source": [
    "## 모험가 길드"
   ]
  },
  {
   "cell_type": "code",
   "execution_count": 2,
   "metadata": {},
   "outputs": [
    {
     "name": "stdout",
     "output_type": "stream",
     "text": [
      "[1, 2, 2, 2, 3]\n"
     ]
    }
   ],
   "source": [
    "n = 5\n",
    "fears = [2,3,1,2,2]\n",
    "fears = sorted(fears)\n",
    "print(fears)\n",
    "\n",
    "groups = 0\n",
    "count = 0\n",
    "for fear in fears:\n",
    "    count+=1 # 현재 그룹 추가\n",
    "    if count >= fear:\n",
    "        groups+=1\n",
    "        count=0"
   ]
  },
  {
   "cell_type": "markdown",
   "metadata": {},
   "source": [
    "## 곱하기 혹은 더하기"
   ]
  },
  {
   "cell_type": "code",
   "execution_count": 9,
   "metadata": {},
   "outputs": [
    {
     "name": "stdout",
     "output_type": "stream",
     "text": [
      "210\n"
     ]
    }
   ],
   "source": [
    "S = '5607'\n",
    "answer = 0\n",
    "for i in S:\n",
    "    if answer <2 or int(i)<2:\n",
    "        answer += int(i)\n",
    "    else:\n",
    "        answer *= int(i)\n",
    "print(answer)"
   ]
  },
  {
   "cell_type": "markdown",
   "metadata": {},
   "source": [
    "## 문자열 뒤집기"
   ]
  },
  {
   "cell_type": "code",
   "execution_count": 18,
   "metadata": {},
   "outputs": [
    {
     "name": "stdout",
     "output_type": "stream",
     "text": [
      "3\n"
     ]
    }
   ],
   "source": [
    "S = '10011010'\n",
    "num_zero = 0\n",
    "num_one = 0\n",
    "now = S[0]\n",
    "\n",
    "if now=='0':\n",
    "    num_zero +=1 \n",
    "else:\n",
    "    num_one+=1\n",
    "\n",
    "for i in S[1:]:\n",
    "    if i == now:\n",
    "        continue\n",
    "    \n",
    "    if i == '0':\n",
    "        num_zero+=1\n",
    "    else:\n",
    "        num_one+=1\n",
    "    now = i\n",
    "\n",
    "    \n",
    "print(min(num_zero, num_one))"
   ]
  },
  {
   "cell_type": "markdown",
   "metadata": {},
   "source": [
    "## 볼링공 고르기"
   ]
  },
  {
   "cell_type": "code",
   "execution_count": 16,
   "metadata": {},
   "outputs": [
    {
     "name": "stdout",
     "output_type": "stream",
     "text": [
      "25\n"
     ]
    }
   ],
   "source": [
    "n, m = 8, 5\n",
    "input_weights = [1,5,4,3,2,4,5,2]\n",
    "weights = [0]* (m+1)\n",
    "\n",
    "for i in input_weights:\n",
    "    weights[i] += 1\n",
    "    \n",
    "result = 0\n",
    "for i in range(1, len(weights)):\n",
    "    n -= weights[i]\n",
    "    result += weights[i]*n\n",
    "print(result)    "
   ]
  },
  {
   "cell_type": "code",
   "execution_count": null,
   "metadata": {},
   "outputs": [],
   "source": [
    "# 두번의 for loop으로 해결할 수도 있다. 최악의 경우 1000**2 = 1,000,000번의 연산 수행\n",
    "\n",
    "n, m = map(int, input().split())\n",
    "weights = list(map(int, input().split()))\n",
    "weights = sorted(weights)\n",
    "\n",
    "print(n,m)\n",
    "print(weights)\n",
    "\n",
    "count = 0\n",
    "for i in range(len(weights)):\n",
    "    now = weights[i]\n",
    "    for j in range(i+1, len(weights)):\n",
    "        if now == weights[j]:\n",
    "            continue\n",
    "        else:\n",
    "            count+=1\n",
    "print(count)"
   ]
  },
  {
   "cell_type": "markdown",
   "metadata": {},
   "source": [
    "## 만들 수 없는 금액"
   ]
  },
  {
   "cell_type": "code",
   "execution_count": 24,
   "metadata": {},
   "outputs": [
    {
     "name": "stdout",
     "output_type": "stream",
     "text": [
      "[1, 1, 2, 3, 9]\n",
      "8 9\n"
     ]
    }
   ],
   "source": [
    "n = 5\n",
    "money = [3,2,1,1,9]\n",
    "money.sort()\n",
    "print(money)\n",
    "target = 1\n",
    "for i in money:\n",
    "    if target < i:\n",
    "        print(target, i)\n",
    "        break\n",
    "    target += i"
   ]
  },
  {
   "cell_type": "code",
   "execution_count": null,
   "metadata": {},
   "outputs": [],
   "source": [
    "### \n",
    "\n",
    "n = int(input())\n",
    "coins = list(map(int, input().split()))\n",
    "coins = sorted(coins)\n",
    "\n",
    "print(coins)\n",
    "# [1]         : 1 ok | target=2\n",
    "# [1,1]       : 1,2 ok | target=3\n",
    "# [1,1,2]     : 1,2,3,4 ok | target=5\n",
    "# [1,1,2,3]   : 1,2,3,4,5,6,7 ok | target=8\n",
    "# [1,1,2,3,9] : 1,2,3,4,5,6,7,10,11,12,13,14,15,16 | i>target => 8을 만들 수 없음. break\n",
    "\n",
    "target = 1\n",
    "sum_ = 0\n",
    "for i in coins:\n",
    "    sum_+=i\n",
    "    if i <= target:\n",
    "        target = sum_+1\n",
    "    else:\n",
    "        break\n",
    "\n",
    "print(target)\n"
   ]
  }
 ],
 "metadata": {
  "interpreter": {
   "hash": "6bb00e665e79723e7e79feb91bbbda6c3445b5ccf06327c5b374eacd70313e09"
  },
  "kernelspec": {
   "display_name": "Python 3.7.10 ('seunghyun')",
   "language": "python",
   "name": "python3"
  },
  "language_info": {
   "codemirror_mode": {
    "name": "ipython",
    "version": 3
   },
   "file_extension": ".py",
   "mimetype": "text/x-python",
   "name": "python",
   "nbconvert_exporter": "python",
   "pygments_lexer": "ipython3",
   "version": "3.7.10"
  },
  "orig_nbformat": 4
 },
 "nbformat": 4,
 "nbformat_minor": 2
}

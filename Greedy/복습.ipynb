{
 "cells": [
  {
   "cell_type": "markdown",
   "metadata": {},
   "source": [
    "## 모험가 길드"
   ]
  },
  {
   "cell_type": "code",
   "execution_count": 4,
   "metadata": {},
   "outputs": [
    {
     "name": "stdout",
     "output_type": "stream",
     "text": [
      "[1, 1, 1, 2, 2, 2, 3, 4, 4, 4, 5]\n",
      "5\n"
     ]
    }
   ],
   "source": [
    "n = 5\n",
    "fear = [2,3,1,2,2]\n",
    "fear = [1,1,1,2,2,2,3,4,4,4,5]\n",
    "fear.sort()\n",
    "print(fear)\n",
    "\n",
    "answer = 0\n",
    "\n",
    "min_ = fear[0]\n",
    "count = 0 # 현재 그룹에 포함되어있는 모험가\n",
    "for i in fear:\n",
    "    count += 1 # 현재 그룹 인원수 추가\n",
    "    if count >= i: # 현재 그룹 인원수가 공포도와 같거나 그보다 많으면 그룹 카운트\n",
    "        count = 0 # 현재 그룹 인원수 초기화 \n",
    "        answer +=1 # 총 그룹 수 업데이트\n",
    "print(answer)"
   ]
  },
  {
   "cell_type": "markdown",
   "metadata": {},
   "source": [
    "## 곱하기 혹은 더하기"
   ]
  },
  {
   "cell_type": "code",
   "execution_count": 9,
   "metadata": {},
   "outputs": [
    {
     "name": "stdout",
     "output_type": "stream",
     "text": [
      "210\n"
     ]
    }
   ],
   "source": [
    "S = '5607'\n",
    "answer = 0\n",
    "for i in S:\n",
    "    if answer <2 or int(i)<2:\n",
    "        answer += int(i)\n",
    "    else:\n",
    "        answer *= int(i)\n",
    "print(answer)"
   ]
  },
  {
   "cell_type": "markdown",
   "metadata": {},
   "source": [
    "## 문자열 뒤집기"
   ]
  },
  {
   "cell_type": "code",
   "execution_count": 18,
   "metadata": {},
   "outputs": [
    {
     "name": "stdout",
     "output_type": "stream",
     "text": [
      "3\n"
     ]
    }
   ],
   "source": [
    "S = '10011010'\n",
    "num_zero = 0\n",
    "num_one = 0\n",
    "now = S[0]\n",
    "\n",
    "if now=='0':\n",
    "    num_zero +=1 \n",
    "else:\n",
    "    num_one+=1\n",
    "\n",
    "for i in S[1:]:\n",
    "    if i == now:\n",
    "        continue\n",
    "    \n",
    "    if i == '0':\n",
    "        num_zero+=1\n",
    "    else:\n",
    "        num_one+=1\n",
    "    now = i\n",
    "\n",
    "    \n",
    "print(min(num_zero, num_one))"
   ]
  },
  {
   "cell_type": "markdown",
   "metadata": {},
   "source": [
    "## 볼링공 고르기"
   ]
  },
  {
   "cell_type": "code",
   "execution_count": 16,
   "metadata": {},
   "outputs": [
    {
     "name": "stdout",
     "output_type": "stream",
     "text": [
      "25\n"
     ]
    }
   ],
   "source": [
    "n, m = 8, 5\n",
    "input_weights = [1,5,4,3,2,4,5,2]\n",
    "weights = [0]* (m+1)\n",
    "\n",
    "for i in input_weights:\n",
    "    weights[i] += 1\n",
    "    \n",
    "result = 0\n",
    "for i in range(1, len(weights)):\n",
    "    n -= weights[i]\n",
    "    result += weights[i]*n\n",
    "print(result)    "
   ]
  },
  {
   "cell_type": "markdown",
   "metadata": {},
   "source": [
    "## 만들 수 없는 금액"
   ]
  },
  {
   "cell_type": "code",
   "execution_count": 24,
   "metadata": {},
   "outputs": [
    {
     "name": "stdout",
     "output_type": "stream",
     "text": [
      "[1, 1, 2, 3, 9]\n",
      "8 9\n"
     ]
    }
   ],
   "source": [
    "n = 5\n",
    "money = [3,2,1,1,9]\n",
    "money.sort()\n",
    "print(money)\n",
    "target = 1\n",
    "for i in money:\n",
    "    if target < i:\n",
    "        print(target, i)\n",
    "        break\n",
    "    target += i"
   ]
  }
 ],
 "metadata": {
  "interpreter": {
   "hash": "6bb00e665e79723e7e79feb91bbbda6c3445b5ccf06327c5b374eacd70313e09"
  },
  "kernelspec": {
   "display_name": "Python 3.7.10 ('seunghyun')",
   "language": "python",
   "name": "python3"
  },
  "language_info": {
   "codemirror_mode": {
    "name": "ipython",
    "version": 3
   },
   "file_extension": ".py",
   "mimetype": "text/x-python",
   "name": "python",
   "nbconvert_exporter": "python",
   "pygments_lexer": "ipython3",
   "version": "3.7.10"
  },
  "orig_nbformat": 4
 },
 "nbformat": 4,
 "nbformat_minor": 2
}
